{
 "cells": [
  {
   "cell_type": "markdown",
   "id": "e6e61b0f-a2b2-4101-9e6f-6c173bf5d8e7",
   "metadata": {},
   "source": [
    "# Data Science Tools and Ecosystem"
   ]
  },
  {
   "cell_type": "markdown",
   "id": "f5217c07-de7e-4b6e-bd4b-ee538155c181",
   "metadata": {},
   "source": [
    " **In this notebook, Data Science Tools and Ecosystem are summarized.**"
   ]
  },
  {
   "cell_type": "markdown",
   "id": "5a754372-4612-4808-a174-d133634a194c",
   "metadata": {},
   "source": [
    "**Objectives**"
   ]
  },
  {
   "cell_type": "markdown",
   "id": "fed7e8db-ec68-465f-89f2-c8447320b6af",
   "metadata": {},
   "source": [
    " 1. Creating a markdown cell\n",
    " 2. Creating a code cell\n",
    " 3. Headings\n",
    " 4. Arithmetic Expressions\n",
    " 5. Jupyter Notebooks"
   ]
  },
  {
   "cell_type": "markdown",
   "id": "31bfb92c-e607-44ad-802b-563e12885bf9",
   "metadata": {},
   "source": [
    "Some of the popular languages that Data Scientists use are:"
   ]
  },
  {
   "cell_type": "markdown",
   "id": "ee73ccf0-6375-4f99-9bca-9a8f7bd20393",
   "metadata": {},
   "source": [
    "    1.Python\n",
    "    2.R\n",
    "    3.SQL\n",
    "    4.Java"
   ]
  },
  {
   "cell_type": "markdown",
   "id": "5932e59e-d36c-4082-85d6-44c02285a7b2",
   "metadata": {
    "tags": []
   },
   "source": [
    "## Data Science Tools"
   ]
  },
  {
   "cell_type": "markdown",
   "id": "fc812e78-42fc-4673-ae8b-43899aef99a0",
   "metadata": {},
   "source": [
    "\n",
    "| Data Science Tools|\n",
    "| --- |\n",
    "| Jupyter | \n",
    "| RStudio |\n",
    "|Spyder |"
   ]
  },
  {
   "cell_type": "markdown",
   "id": "7c5e2fe8-92d3-4f2d-8ad7-5355a7eeaa05",
   "metadata": {
    "tags": []
   },
   "source": [
    "### Below are a few examples of evaluating arithmetic expressions in Python"
   ]
  },
  {
   "cell_type": "markdown",
   "id": "c3d8e860-45a1-47ae-b13b-964d5bc414f2",
   "metadata": {},
   "source": [
    " This a simple arithmetic expression to mutiply then add integers"
   ]
  },
  {
   "cell_type": "code",
   "execution_count": 2,
   "id": "1f29ffe4-1a72-4c3a-ba1d-d62ea38d1ac7",
   "metadata": {
    "tags": []
   },
   "outputs": [
    {
     "data": {
      "text/plain": [
       "17"
      ]
     },
     "execution_count": 2,
     "metadata": {},
     "output_type": "execute_result"
    }
   ],
   "source": [
    "(3*4)+5"
   ]
  },
  {
   "cell_type": "markdown",
   "id": "4121ff7a-4298-4208-8a06-87363faeefd7",
   "metadata": {},
   "source": [
    "This will convert 200 minutes to hours by diving by 60"
   ]
  },
  {
   "cell_type": "code",
   "execution_count": 10,
   "id": "f1da6089-e5c3-41f2-8716-2784552c10d3",
   "metadata": {
    "tags": []
   },
   "outputs": [
    {
     "data": {
      "text/plain": [
       "3.3333333333333335"
      ]
     },
     "execution_count": 10,
     "metadata": {},
     "output_type": "execute_result"
    }
   ],
   "source": [
    "200/60\n"
   ]
  },
  {
   "cell_type": "markdown",
   "id": "74b3d6eb-c5a6-421c-997a-99ea453cd0a7",
   "metadata": {},
   "source": [
    "## Author"
   ]
  },
  {
   "cell_type": "markdown",
   "id": "dfbced83-9a49-4dba-96bb-7277e5b32430",
   "metadata": {},
   "source": [
    "Muneni Marowa"
   ]
  },
  {
   "cell_type": "code",
   "execution_count": null,
   "id": "0f8e2afa-44c9-468c-90fc-65186d3d3d57",
   "metadata": {},
   "outputs": [],
   "source": []
  }
 ],
 "metadata": {
  "kernelspec": {
   "display_name": "Python",
   "language": "python",
   "name": "conda-env-python-py"
  },
  "language_info": {
   "codemirror_mode": {
    "name": "ipython",
    "version": 3
   },
   "file_extension": ".py",
   "mimetype": "text/x-python",
   "name": "python",
   "nbconvert_exporter": "python",
   "pygments_lexer": "ipython3",
   "version": "3.7.12"
  }
 },
 "nbformat": 4,
 "nbformat_minor": 5
}
